{
 "cells": [
  {
   "cell_type": "code",
   "execution_count": 13,
   "metadata": {},
   "outputs": [
    {
     "name": "stdout",
     "output_type": "stream",
     "text": [
      "9\n",
      "(1, 1, 5, 5)\n"
     ]
    },
    {
     "data": {
      "text/plain": [
       "array([[[[[[0., 0., 0., 0., 0.],\n",
       "           [0., 0., 0., 0., 0.],\n",
       "           [0., 0., 0., 0., 0.],\n",
       "           [0., 0., 0., 0., 0.],\n",
       "           [0., 0., 0., 0., 0.]]]]]])"
      ]
     },
     "execution_count": 13,
     "metadata": {},
     "output_type": "execute_result"
    }
   ],
   "source": [
    "import numpy as np\n",
    "\n",
    "a = np.array([[[\n",
    "          [1,5,7,2,3],\n",
    "          [2,3,2,5,6],\n",
    "          [9,3,2,4,3],\n",
    "          [5,1,0,0,3],\n",
    "          [2,3,2,4,3]]]])\n",
    "print (np.max(a[0:3,0:3]))\n",
    "pooling_shape = 2\n",
    "stride = 2\n",
    "_,_,x, y = a.shape\n",
    "x_o = (x - pooling_shape)/stride +1\n",
    "y_o = (y - pooling_shape)/stride +1\n",
    "out_put = np.zeros((int(x_o),int(y_o)))\n",
    "#print(out_put)\n",
    "print(a.shape)\n",
    " "
   ]
  },
  {
   "cell_type": "code",
   "execution_count": 14,
   "metadata": {},
   "outputs": [
    {
     "ename": "TypeError",
     "evalue": "cannot unpack non-iterable int object",
     "output_type": "error",
     "traceback": [
      "\u001b[1;31m---------------------------------------------------------------------------\u001b[0m",
      "\u001b[1;31mTypeError\u001b[0m                                 Traceback (most recent call last)",
      "\u001b[1;32m<ipython-input-14-c8f62d58b61d>\u001b[0m in \u001b[0;36m<module>\u001b[1;34m\u001b[0m\n\u001b[0;32m      1\u001b[0m \u001b[1;32mfrom\u001b[0m \u001b[0mLayers\u001b[0m\u001b[1;33m.\u001b[0m\u001b[0mPooling\u001b[0m \u001b[1;32mimport\u001b[0m \u001b[0mPooling\u001b[0m\u001b[1;33m\u001b[0m\u001b[1;33m\u001b[0m\u001b[0m\n\u001b[0;32m      2\u001b[0m \u001b[1;33m\u001b[0m\u001b[0m\n\u001b[1;32m----> 3\u001b[1;33m \u001b[0mp_layer\u001b[0m \u001b[1;33m=\u001b[0m \u001b[0mPooling\u001b[0m\u001b[1;33m(\u001b[0m\u001b[0mstride\u001b[0m\u001b[1;33m,\u001b[0m \u001b[0mpooling_shape\u001b[0m\u001b[1;33m)\u001b[0m\u001b[1;33m\u001b[0m\u001b[1;33m\u001b[0m\u001b[0m\n\u001b[0m\u001b[0;32m      4\u001b[0m \u001b[0mp_layer\u001b[0m\u001b[1;33m.\u001b[0m\u001b[0mforward\u001b[0m\u001b[1;33m(\u001b[0m\u001b[0ma\u001b[0m\u001b[1;33m)\u001b[0m\u001b[1;33m\u001b[0m\u001b[1;33m\u001b[0m\u001b[0m\n",
      "\u001b[1;32mc:\\Users\\Niloufar\\Desktop\\Deep_Learning\\exercise2_material\\src_to_implement\\Layers\\Pooling.py\u001b[0m in \u001b[0;36m__init__\u001b[1;34m(self, stride_shape, pooling_shape)\u001b[0m\n\u001b[0;32m      5\u001b[0m     \u001b[1;32mdef\u001b[0m \u001b[0m__init__\u001b[0m\u001b[1;33m(\u001b[0m\u001b[0mself\u001b[0m\u001b[1;33m,\u001b[0m \u001b[0mstride_shape\u001b[0m\u001b[1;33m,\u001b[0m \u001b[0mpooling_shape\u001b[0m\u001b[1;33m)\u001b[0m\u001b[1;33m:\u001b[0m\u001b[1;33m\u001b[0m\u001b[1;33m\u001b[0m\u001b[0m\n\u001b[0;32m      6\u001b[0m         \u001b[0msuper\u001b[0m\u001b[1;33m(\u001b[0m\u001b[1;33m)\u001b[0m\u001b[1;33m.\u001b[0m\u001b[0m__init__\u001b[0m\u001b[1;33m(\u001b[0m\u001b[1;33m)\u001b[0m\u001b[1;33m\u001b[0m\u001b[1;33m\u001b[0m\u001b[0m\n\u001b[1;32m----> 7\u001b[1;33m         \u001b[0mself\u001b[0m\u001b[1;33m.\u001b[0m\u001b[0ms_x\u001b[0m\u001b[1;33m,\u001b[0m \u001b[0mself\u001b[0m\u001b[1;33m.\u001b[0m\u001b[0ms_y\u001b[0m \u001b[1;33m=\u001b[0m \u001b[0mstride_shape\u001b[0m\u001b[1;33m\u001b[0m\u001b[1;33m\u001b[0m\u001b[0m\n\u001b[0m\u001b[0;32m      8\u001b[0m         \u001b[0mself\u001b[0m\u001b[1;33m.\u001b[0m\u001b[0mp_x\u001b[0m\u001b[1;33m,\u001b[0m \u001b[0mself\u001b[0m\u001b[1;33m.\u001b[0m\u001b[0mp_y\u001b[0m \u001b[1;33m=\u001b[0m \u001b[0mpooling_shape\u001b[0m\u001b[1;33m\u001b[0m\u001b[1;33m\u001b[0m\u001b[0m\n\u001b[0;32m      9\u001b[0m \u001b[1;33m\u001b[0m\u001b[0m\n",
      "\u001b[1;31mTypeError\u001b[0m: cannot unpack non-iterable int object"
     ]
    }
   ],
   "source": [
    "from Layers.Pooling import Pooling\n",
    "\n",
    "p_layer = Pooling(stride, pooling_shape)\n",
    "p_layer.forward(a)"
   ]
  },
  {
   "cell_type": "code",
   "execution_count": null,
   "metadata": {},
   "outputs": [
    {
     "name": "stdout",
     "output_type": "stream",
     "text": [
      "[[5. 7.]\n",
      " [9. 4.]]\n"
     ]
    }
   ],
   "source": [
    "m=n = 0\n",
    "for i in range(0,x,stride):\n",
    "    if i+pooling_shape <= x :\n",
    "        n = 0\n",
    "        for j in range(0,y,stride):\n",
    "            if j+pooling_shape <= y:\n",
    "                \n",
    "\n",
    "                out_put[m,n] = np.max(a[i:i+pooling_shape,j:j+pooling_shape])\n",
    "                n+=1\n",
    "        m+=1\n",
    "\n",
    "\n",
    "print(out_put)"
   ]
  },
  {
   "cell_type": "code",
   "execution_count": null,
   "metadata": {},
   "outputs": [
    {
     "data": {
      "text/plain": [
       "(3, 1, 4, 1)"
      ]
     },
     "execution_count": 54,
     "metadata": {},
     "output_type": "execute_result"
    }
   ],
   "source": [
    "a = np.unravel_index(1621, (6,7,8,9))\n",
    "a"
   ]
  },
  {
   "cell_type": "code",
   "execution_count": null,
   "metadata": {},
   "outputs": [],
   "source": [
    "a = np.array([[6,3],\n",
    "              [7,2]])\n",
    "b = np.array([[6,4,3],\n",
    "              [2,5,4],\n",
    "              [7,1,2]])\n",
    "a_input = np.array([[6,5,3,0],\n",
    "                    [2,3,1,2],\n",
    "                    [4,1,0,0],\n",
    "                    [7,1,2,2]])\n",
    "a_stride = 2 \n",
    "\n",
    "a_input = np.array([[6,4,3,0],\n",
    "                    [0,1,1,2],\n",
    "                    [2,1,5,0],\n",
    "                    [6,1,2,2]])"
   ]
  },
  {
   "cell_type": "code",
   "execution_count": null,
   "metadata": {},
   "outputs": [
    {
     "name": "stdout",
     "output_type": "stream",
     "text": [
      "[[6 0 0 0]\n",
      " [0 0 0 0]\n",
      " [0 0 0 0]\n",
      " [6 0 0 0]]\n"
     ]
    }
   ],
   "source": [
    "\n",
    "c = a_input==np.max(a_input)\n",
    "print(np.multiply(a_input,c))   \n"
   ]
  },
  {
   "cell_type": "code",
   "execution_count": null,
   "metadata": {},
   "outputs": [],
   "source": [
    "\n",
    "input_tensor = np.array([\n",
    "          [1,5,7,2,3],\n",
    "          [2,3,2,5,6],\n",
    "          [9,3,2,4,3],\n",
    "          [5,1,0,0,3],\n",
    "          [2,3,2,4,3]])\n",
    "\n",
    "erro_tensor = np.array(\n",
    "                [[5, 7],\n",
    "                [9, 4]])\n",
    "pooling_shape = 2\n",
    "stride = 2\n",
    "\n",
    "x_input, y_input = input_tensor.shape \n",
    "out_put = np.zeros((x_input,y_input))\n"
   ]
  },
  {
   "cell_type": "code",
   "execution_count": null,
   "metadata": {},
   "outputs": [
    {
     "name": "stdout",
     "output_type": "stream",
     "text": [
      "first row\n",
      "first row\n",
      "[[0. 5. 7. 0. 0.]\n",
      " [0. 0. 0. 0. 0.]\n",
      " [9. 0. 0. 4. 0.]\n",
      " [0. 0. 0. 0. 0.]\n",
      " [0. 0. 0. 0. 0.]]\n"
     ]
    }
   ],
   "source": [
    "x_error, y_error = erro_tensor.shape \n",
    "for i in range(x_error):\n",
    "    for j in range(y_error):\n",
    "        input_tensor_p = input_tensor[i*stride:i*stride +pooling_shape, j*stride:j*stride +pooling_shape]\n",
    "        mask = input_tensor_p == np.max(input_tensor_p)\n",
    "        #print(\"next\")\n",
    "        out_put[i*stride:i*stride +pooling_shape, j*stride:j*stride +pooling_shape] = np.multiply(erro_tensor[i,j],mask)\n",
    "        #print(out_put)\n",
    "\n",
    "    print(\"first row\")\n",
    "\n",
    "print(out_put)\n"
   ]
  },
  {
   "cell_type": "code",
   "execution_count": 2,
   "metadata": {},
   "outputs": [
    {
     "data": {
      "text/plain": [
       "(5, 3, 3)"
      ]
     },
     "execution_count": 2,
     "metadata": {},
     "output_type": "execute_result"
    }
   ],
   "source": [
    "con_shep = (3, 3)\n",
    "n_kernels = 5\n",
    "\n",
    "w_shape = (n_kernels, *con_shep)\n",
    "w_shape"
   ]
  },
  {
   "cell_type": "code",
   "execution_count": 4,
   "metadata": {},
   "outputs": [],
   "source": [
    "from Layers.Base import BaseLayer\n",
    "layer1 = BaseLayer()\n",
    "layer2 = BaseLayer()\n",
    "layer1.trainable = True\n",
    "\n",
    "from Optimization.Loss import CrossEntropyLoss\n",
    "from Optimization.Optimizers import Sgd\n",
    "\n",
    "opt_sgd = Sgd(.1)\n",
    "loss_ent = CrossEntropyLoss()"
   ]
  },
  {
   "cell_type": "code",
   "execution_count": 5,
   "metadata": {},
   "outputs": [],
   "source": [
    "class Neuralnetwork :\n",
    "    def __init__(self) :\n",
    "        self.layers = list()\n",
    "        self.optimizer = None \n",
    "        self.loss = None \n",
    "    \n",
    "    def set_optimizer(self,optimizer):\n",
    "        self.optimizer = optimizer\n",
    "\n",
    "    def set_loss(self,loss):\n",
    "        self.loss = loss \n",
    "    \n",
    "    def add_layer(self,layer):\n",
    "        self.layers.append(layer)\n",
    "    \n",
    "    def print_info(self):\n",
    "        print(\"opt -- \", self.optimizer)\n",
    "        print(\"loss -- \", self.loss)\n",
    "        for i in range(len(self.layers)):\n",
    "            print(\"layer {} -- \".format(i), self.layers[i])\n",
    "    "
   ]
  },
  {
   "cell_type": "code",
   "execution_count": 6,
   "metadata": {},
   "outputs": [
    {
     "name": "stdout",
     "output_type": "stream",
     "text": [
      "opt --  <Optimization.Optimizers.Sgd object at 0x000002EB3B13C820>\n",
      "loss --  <Optimization.Loss.CrossEntropyLoss object at 0x000002EB3B13CEE0>\n",
      "layer {i} --  <Layers.Base.BaseLayer object at 0x000002EB3B13CF10>\n",
      "layer {i} --  <Layers.Base.BaseLayer object at 0x000002EB3B13CB50>\n"
     ]
    }
   ],
   "source": [
    "net = Neuralnetwork()\n",
    "net.set_optimizer(opt_sgd)\n",
    "net.set_loss(loss_ent)\n",
    "net.add_layer(layer1)\n",
    "net.add_layer(layer2)\n",
    "\n",
    "net.print_info()"
   ]
  },
  {
   "cell_type": "code",
   "execution_count": null,
   "metadata": {},
   "outputs": [],
   "source": []
  }
 ],
 "metadata": {
  "kernelspec": {
   "display_name": "deep_learning",
   "language": "python",
   "name": "python3"
  },
  "language_info": {
   "codemirror_mode": {
    "name": "ipython",
    "version": 3
   },
   "file_extension": ".py",
   "mimetype": "text/x-python",
   "name": "python",
   "nbconvert_exporter": "python",
   "pygments_lexer": "ipython3",
   "version": "3.9.19"
  }
 },
 "nbformat": 4,
 "nbformat_minor": 2
}
